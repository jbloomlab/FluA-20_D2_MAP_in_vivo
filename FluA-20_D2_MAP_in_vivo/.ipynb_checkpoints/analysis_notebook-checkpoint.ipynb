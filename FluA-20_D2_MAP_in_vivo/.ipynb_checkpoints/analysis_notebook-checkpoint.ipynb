{
 "cells": [
  {
   "cell_type": "markdown",
   "metadata": {},
   "source": [
    "# FluA-2 and D2 H1-1/H3-1 mutational antigenic profiling _in_ _vivo_\n",
    "\n",
    "## Overview:\n",
    "In this analysis, we will analyze the deep sequencing data from a selection experiment performed using deep mutational scanning codon libraries of all possible single amino-acid in A/WSN/33 H1 HA. The selections were performed by Lauren Gentles and Jesse Bloom with the non-neutralizing antibodies [FluA-20](https://www.ncbi.nlm.nih.gov/pubmed/31100268) and [D2 H1-1/H3-1](https://www.ncbi.nlm.nih.gov/pubmed/27820605) (here referred to as D2) kindly supplied by James Crowe and and George Georgiou respectively. Antibodies were delived in 100ug dose to DBA/2J mice 2 hours prior to infected, and samples were collected at days 2 and 3 post-infection.\n",
    "\n",
    "## Import Python packages"
   ]
  },
  {
   "cell_type": "code",
   "execution_count": 1,
   "metadata": {},
   "outputs": [
    {
     "name": "stdout",
     "output_type": "stream",
     "text": [
      "Using dmslogo version 0.2.3\n",
      "Using dms_tools2 version 2.6.0\n"
     ]
    }
   ],
   "source": [
    "import glob\n",
    "import os\n",
    "\n",
    "from IPython.display import display, HTML\n",
    "\n",
    "import matplotlib.pyplot as plt\n",
    "plt.ion()\n",
    "\n",
    "import pandas\n",
    "\n",
    "import dmslogo\n",
    "print(f\"Using dmslogo version {dmslogo.__version__}\")\n",
    "\n",
    "import dms_tools2\n",
    "from dms_tools2.ipython_utils import showPDF\n",
    "print(f\"Using dms_tools2 version {dms_tools2.__version__}\")\n",
    "\n",
    "# results will go in this directory\n",
    "resultsdir = './results/' \n",
    "os.makedirs(resultsdir, exist_ok=True)\n",
    "    \n",
    "# CPUs to use, should not exceed the number you request with slurm\n",
    "ncpus = 14\n",
    "\n",
    "# do we use existing results or generate everything new?\n",
    "use_existing = 'yes'\n",
    "\n",
    "fastqdir = os.path.join(resultsdir, 'FASTQ_files/')\n",
    "os.makedirs(fastqdir, exist_ok=True)\n",
    "    \n",
    "renumberedcountsdir = os.path.join(resultsdir, 'renumberedcounts')\n",
    "os.makedirs(renumberedcountsdir, exist_ok=True)"
   ]
  },
  {
   "cell_type": "markdown",
   "metadata": {},
   "source": [
    "## Process deep sequencing data\n",
    "\n",
    "### Get information about samples\n",
    "Here we define the samples by reading in a *.csv* file containing the selection type, library, percent infectivity, and R1 path. We then combind the selection type and the library to create the sample name. For example, the WSN library 1 selected with antibody FluA-20 gets the name, 'FluA-20-Lib.1'. We also include a mock unselected sample for comparison to identified enriched mutations in the 2B06 selected sample. The WSN-plasmid encodes the wildtype HA sequence and will served as an error control in this analysis. There are two separate error control samples in this analysis since two different sequencing runs were required to produce the data."
   ]
  }
 ],
 "metadata": {
  "kernelspec": {
   "display_name": "Python 3",
   "language": "python",
   "name": "python3"
  },
  "language_info": {
   "codemirror_mode": {
    "name": "ipython",
    "version": 3
   },
   "file_extension": ".py",
   "mimetype": "text/x-python",
   "name": "python",
   "nbconvert_exporter": "python",
   "pygments_lexer": "ipython3",
   "version": "3.6.7"
  },
  "toc": {
   "base_numbering": 1,
   "nav_menu": {},
   "number_sections": true,
   "sideBar": true,
   "skip_h1_title": false,
   "title_cell": "Table of Contents",
   "title_sidebar": "Contents",
   "toc_cell": false,
   "toc_position": {},
   "toc_section_display": true,
   "toc_window_display": true
  }
 },
 "nbformat": 4,
 "nbformat_minor": 2
}
