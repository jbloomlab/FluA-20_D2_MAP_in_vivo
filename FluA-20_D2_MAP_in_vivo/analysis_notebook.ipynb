{
 "cells": [
  {
   "cell_type": "markdown",
   "metadata": {},
   "source": [
    "# FluA-2 and D2 H1-1/H3-1 mutational antigenic profiling _in_ _vivo_\n",
    "\n",
    "## Overview:\n",
    "In this analysis, we will analyze the deep sequencing data from a selection experiment performed using deep mutational scanning codon libraries of all possible single amino-acid in A/WSN/33 H1 HA. The selections were performed by Lauren Gentles and Jesse Bloom with the non-neutralizing antibodies [FluA-20](https://www.ncbi.nlm.nih.gov/pubmed/31100268) and [D2 H1-1/H3-1](https://www.ncbi.nlm.nih.gov/pubmed/27820605) (here referred to as D2) kindly supplied by James Crowe and and George Georgiou respectively. Antibodies were delived in 100ug dose to DBA/2J mice 2 hours prior to infected, and samples were collected at days 2 and 3 post-infection.\n",
    "\n",
    "## Import Python packages"
   ]
  },
  {
   "cell_type": "code",
   "execution_count": 1,
   "metadata": {},
   "outputs": [
    {
     "name": "stderr",
     "output_type": "stream",
     "text": [
      "Matplotlib is building the font cache using fc-list. This may take a moment.\n"
     ]
    },
    {
     "name": "stdout",
     "output_type": "stream",
     "text": [
      "Using dmslogo version 0.2.3\n",
      "Using dms_tools2 version 2.6.1\n"
     ]
    }
   ],
   "source": [
    "import glob\n",
    "import os\n",
    "\n",
    "from IPython.display import display, HTML\n",
    "\n",
    "import matplotlib.pyplot as plt\n",
    "plt.ion()\n",
    "\n",
    "import pandas\n",
    "\n",
    "import dmslogo\n",
    "print(f\"Using dmslogo version {dmslogo.__version__}\")\n",
    "\n",
    "import dms_tools2\n",
    "from dms_tools2.ipython_utils import showPDF\n",
    "print(f\"Using dms_tools2 version {dms_tools2.__version__}\")\n",
    "\n",
    "# results will go in this directory\n",
    "resultsdir = './results/' \n",
    "os.makedirs(resultsdir, exist_ok=True)\n",
    "    \n",
    "# CPUs to use, should not exceed the number you request with slurm\n",
    "ncpus = 14\n",
    "\n",
    "# do we use existing results or generate everything new?\n",
    "use_existing = 'yes'\n",
    "\n",
    "fastqdir = os.path.join(resultsdir, 'FASTQ_files/')\n",
    "os.makedirs(fastqdir, exist_ok=True)\n",
    "    \n",
    "renumberedcountsdir = os.path.join(resultsdir, 'renumberedcounts')\n",
    "os.makedirs(renumberedcountsdir, exist_ok=True)"
   ]
  },
  {
   "cell_type": "markdown",
   "metadata": {},
   "source": [
    "## Process deep sequencing data\n",
    "\n",
    "### Get information about samples\n",
    "Here we define the samples by reading in a *.csv* file containing the selection type, library, replicate, and R1 path. We then combind the selection type, replicate, and the library to create the sample name. For example, the WSN library 1 replicate 1 selected with antibody FluA-20 for two days gets the name, 'FluA-20-Lib.1-day2_None'. We also include a mock unselected sample for comparison to identified enriched mutations in the FluA-20 selected sample. The WSN-plasmid encodes the wildtype HA sequence and will served as an error control in this analysis. There are two separate error control samples in this analysis since two different sequencing runs were required to produce the data."
   ]
  },
  {
   "cell_type": "code",
   "execution_count": 2,
   "metadata": {},
   "outputs": [
    {
     "data": {
      "text/html": [
       "<table border=\"1\" class=\"dataframe\">\n",
       "  <thead>\n",
       "    <tr style=\"text-align: right;\">\n",
       "      <th>selection</th>\n",
       "      <th>library</th>\n",
       "      <th>replicate</th>\n",
       "      <th>R1</th>\n",
       "      <th>name</th>\n",
       "    </tr>\n",
       "  </thead>\n",
       "  <tbody>\n",
       "    <tr>\n",
       "      <td>FluA-20</td>\n",
       "      <td>Lib.1</td>\n",
       "      <td>day2-None</td>\n",
       "      <td>/fh/fast/bloom_j/SR/ngs/illumina/bloom_lab/190923_D00300_0825_BH3L23BCX3/Unaligned/Project_bloom_lab/Sample_WSN_FluA20_day2_None/WSN_FluA20_day2_None_GTCCGC_L001_R1_001.fastq.gz</td>\n",
       "      <td>FluA-20-day2-None</td>\n",
       "    </tr>\n",
       "    <tr>\n",
       "      <td>FluA-20</td>\n",
       "      <td>Lib.1</td>\n",
       "      <td>day2-Left</td>\n",
       "      <td>/fh/fast/bloom_j/SR/ngs/illumina/bloom_lab/190923_D00300_0825_BH3L23BCX3/Unaligned/Project_bloom_lab/Sample_WSN_FluA20_day2_Left/WSN_FluA20_day2_Left_GTGGCC_L001_R1_001.fastq.gz</td>\n",
       "      <td>FluA-20-day2-Left</td>\n",
       "    </tr>\n",
       "    <tr>\n",
       "      <td>FluA-20</td>\n",
       "      <td>Lib.1</td>\n",
       "      <td>day2-Right</td>\n",
       "      <td>/fh/fast/bloom_j/SR/ngs/illumina/bloom_lab/190923_D00300_0825_BH3L23BCX3/Unaligned/Project_bloom_lab/Sample_WSN_FluA20_day2_Right/WSN_FluA20_day2_Right_GTGAAA_L001_R1_001.fastq.gz</td>\n",
       "      <td>FluA-20-day2-Right</td>\n",
       "    </tr>\n",
       "    <tr>\n",
       "      <td>FluA-20</td>\n",
       "      <td>Lib.1</td>\n",
       "      <td>day3-None</td>\n",
       "      <td>/fh/fast/bloom_j/SR/ngs/illumina/bloom_lab/190923_D00300_0825_BH3L23BCX3/Unaligned/Project_bloom_lab/Sample_WSN_FluA20_day3_None/WSN_FluA20_day3_None_GTTTCG_L001_R1_001.fastq.gz</td>\n",
       "      <td>FluA-20-day3-None</td>\n",
       "    </tr>\n",
       "    <tr>\n",
       "      <td>FluA-20</td>\n",
       "      <td>Lib.1</td>\n",
       "      <td>day3-Left</td>\n",
       "      <td>/fh/fast/bloom_j/SR/ngs/illumina/bloom_lab/190923_D00300_0825_BH3L23BCX3/Unaligned/Project_bloom_lab/Sample_WSN_FluA20_day3_Left/WSN_FluA20_day3_Left_CAACTA_L001_R1_001.fastq.gz</td>\n",
       "      <td>FluA-20-day3-Left</td>\n",
       "    </tr>\n",
       "    <tr>\n",
       "      <td>FluA-20</td>\n",
       "      <td>Lib.1</td>\n",
       "      <td>day3-Right</td>\n",
       "      <td>/fh/fast/bloom_j/SR/ngs/illumina/bloom_lab/190923_D00300_0825_BH3L23BCX3/Unaligned/Project_bloom_lab/Sample_WSN_FluA20_day3_Right/WSN_FluA20_day3_Right_GAGTGG_L001_R1_001.fastq.gz</td>\n",
       "      <td>FluA-20-day3-Right</td>\n",
       "    </tr>\n",
       "    <tr>\n",
       "      <td>D2-H1-1-H3-1</td>\n",
       "      <td>Lib.1</td>\n",
       "      <td>day2-None</td>\n",
       "      <td>/fh/fast/bloom_j/SR/ngs/illumina/bloom_lab/190923_D00300_0825_BH3L23BCX3/Unaligned/Project_bloom_lab/Sample_WSN_D2_day2_None/WSN_D2_day2_None_CACCGG_L001_R1_001.fastq.gz</td>\n",
       "      <td>D2-H1-1-H3-1-day2-None</td>\n",
       "    </tr>\n",
       "    <tr>\n",
       "      <td>D2-H1-1-H3-1</td>\n",
       "      <td>Lib.1</td>\n",
       "      <td>day2-Left</td>\n",
       "      <td>/fh/fast/bloom_j/SR/ngs/illumina/bloom_lab/190923_D00300_0825_BH3L23BCX3/Unaligned/Project_bloom_lab/Sample_WSN_D2_day2_Left/WSN_D2_day2_Left_CACTCA_L001_R1_001.fastq.gz</td>\n",
       "      <td>D2-H1-1-H3-1-day2-Left</td>\n",
       "    </tr>\n",
       "    <tr>\n",
       "      <td>D2-H1-1-H3-1</td>\n",
       "      <td>Lib.1</td>\n",
       "      <td>day2-Right</td>\n",
       "      <td>/fh/fast/bloom_j/SR/ngs/illumina/bloom_lab/190923_D00300_0825_BH3L23BCX3/Unaligned/Project_bloom_lab/Sample_WSN_D2_day2_Right/WSN_D2_day2_Right_CACGAT_L001_R1_001.fastq.gz</td>\n",
       "      <td>D2-H1-1-H3-1-day2-Right</td>\n",
       "    </tr>\n",
       "    <tr>\n",
       "      <td>D2-H1-1-H3-1</td>\n",
       "      <td>Lib.1</td>\n",
       "      <td>day3-None</td>\n",
       "      <td>/fh/fast/bloom_j/SR/ngs/illumina/bloom_lab/190923_D00300_0825_BH3L23BCX3/Unaligned/Project_bloom_lab/Sample_WSN_D2_day3_None/WSN_D2_day3_None_CAGGCG_L001_R1_001.fastq.gz</td>\n",
       "      <td>D2-H1-1-H3-1-day3-None</td>\n",
       "    </tr>\n",
       "    <tr>\n",
       "      <td>D2-H1-1-H3-1</td>\n",
       "      <td>Lib.1</td>\n",
       "      <td>day3-Left</td>\n",
       "      <td>/fh/fast/bloom_j/SR/ngs/illumina/bloom_lab/190923_D00300_0825_BH3L23BCX3/Unaligned/Project_bloom_lab/Sample_WSN_D2_day3_Left/WSN_D2_day3_Left_CATTTT_L001_R1_001.fastq.gz</td>\n",
       "      <td>D2-H1-1-H3-1-day3-Left</td>\n",
       "    </tr>\n",
       "    <tr>\n",
       "      <td>D2-H1-1-H3-1</td>\n",
       "      <td>Lib.1</td>\n",
       "      <td>day3-Right</td>\n",
       "      <td>/fh/fast/bloom_j/SR/ngs/illumina/bloom_lab/190923_D00300_0825_BH3L23BCX3/Unaligned/Project_bloom_lab/Sample_WSN_D2_day3_Right/WSN_D2_day3_Right_CATGGC_L001_R1_001.fastq.gz</td>\n",
       "      <td>D2-H1-1-H3-1-day3-Right</td>\n",
       "    </tr>\n",
       "    <tr>\n",
       "      <td>Mock</td>\n",
       "      <td>Lib.1</td>\n",
       "      <td>day2-None</td>\n",
       "      <td>/fh/fast/bloom_j/SR/ngs/illumina/bloom_lab/190923_D00300_0825_BH3L23BCX3/Unaligned/Project_bloom_lab/Sample_WSN_NoAb_day2_None/WSN_NoAb_day2_None_GCCAAT_L001_R1_001.fastq.gz</td>\n",
       "      <td>Mock-day2-None</td>\n",
       "    </tr>\n",
       "    <tr>\n",
       "      <td>Mock</td>\n",
       "      <td>Lib.1</td>\n",
       "      <td>day2-Right</td>\n",
       "      <td>/fh/fast/bloom_j/SR/ngs/illumina/bloom_lab/190923_D00300_0825_BH3L23BCX3/Unaligned/Project_bloom_lab/Sample_WSN_NoAb_day2_Right/WSN_NoAb_day2_Right_CTTGTA_L001_R1_001.fastq.gz</td>\n",
       "      <td>Mock-day2-Right</td>\n",
       "    </tr>\n",
       "    <tr>\n",
       "      <td>Mock</td>\n",
       "      <td>Lib.1</td>\n",
       "      <td>day3-None</td>\n",
       "      <td>/fh/fast/bloom_j/SR/ngs/illumina/bloom_lab/190923_D00300_0825_BH3L23BCX3/Unaligned/Project_bloom_lab/Sample_WSN_NoAb_day3_None/WSN_NoAb_day3_None_AGTCAA_L001_R1_001.fastq.gz</td>\n",
       "      <td>Mock-day3-None</td>\n",
       "    </tr>\n",
       "    <tr>\n",
       "      <td>Mock</td>\n",
       "      <td>Lib.1</td>\n",
       "      <td>day3-Right</td>\n",
       "      <td>/fh/fast/bloom_j/SR/ngs/illumina/bloom_lab/190923_D00300_0825_BH3L23BCX3/Unaligned/Project_bloom_lab/Sample_WSN_NoAb_day3_Right/WSN_NoAb_day3_Right_AGTTCC_L001_R1_001.fastq.gz</td>\n",
       "      <td>Mock-day3-Right</td>\n",
       "    </tr>\n",
       "    <tr>\n",
       "      <td>H17L19</td>\n",
       "      <td>Lib.3</td>\n",
       "      <td>day2-100ug-1</td>\n",
       "      <td>/fh/fast/bloom_j/SR/ngs/illumina/bloom_lab/190923_D00300_0825_BH3L23BCX3/Unaligned/Project_bloom_lab/Sample_Lib3-100-1-500ng/Lib3-100-1-500ng_CCAACA_L001_R1_001.fastq.gz</td>\n",
       "      <td>H17L19-day2-100ug-1</td>\n",
       "    </tr>\n",
       "    <tr>\n",
       "      <td>plasmid</td>\n",
       "      <td>NaN</td>\n",
       "      <td>WSN-HA</td>\n",
       "      <td>/fh/fast/bloom_j/SR/ngs/illumina/bloom_lab/190923_D00300_0825_BH3L23BCX3/Unaligned/Project_bloom_lab/Sample_WSN_HA_plasmid/WSN_HA_plasmid_ATGTCA_L001_R1_001.fastq.gz</td>\n",
       "      <td>plasmid-WSN-HA</td>\n",
       "    </tr>\n",
       "  </tbody>\n",
       "</table>"
      ],
      "text/plain": [
       "<IPython.core.display.HTML object>"
      ]
     },
     "metadata": {},
     "output_type": "display_data"
    }
   ],
   "source": [
    "samples = pandas.read_csv('data/samplelist.csv')\n",
    "samples['name'] = samples.selection + '-' + samples.replicate\n",
    "\n",
    "display(HTML(samples.to_html(index=False)))"
   ]
  },
  {
   "cell_type": "markdown",
   "metadata": {},
   "source": [
    "### Run `dms2_batch_bcsubamp`\n",
    "*dms2_batch_bcsubamp* aligns the sequencing reads and counts the frequency of mutations observed."
   ]
  },
  {
   "cell_type": "code",
   "execution_count": 3,
   "metadata": {},
   "outputs": [
    {
     "name": "stdout",
     "output_type": "stream",
     "text": [
      "Here is the batch file that we write to CSV format to use as input:\n"
     ]
    },
    {
     "data": {
      "text/html": [
       "<table border=\"1\" class=\"dataframe\">\n",
       "  <thead>\n",
       "    <tr style=\"text-align: right;\">\n",
       "      <th>name</th>\n",
       "      <th>R1</th>\n",
       "    </tr>\n",
       "  </thead>\n",
       "  <tbody>\n",
       "    <tr>\n",
       "      <td>FluA-20-day2-None</td>\n",
       "      <td>/fh/fast/bloom_j/SR/ngs/illumina/bloom_lab/190923_D00300_0825_BH3L23BCX3/Unaligned/Project_bloom_lab/Sample_WSN_FluA20_day2_None/WSN_FluA20_day2_None_GTCCGC_L001_R1_001.fastq.gz</td>\n",
       "    </tr>\n",
       "    <tr>\n",
       "      <td>FluA-20-day2-Left</td>\n",
       "      <td>/fh/fast/bloom_j/SR/ngs/illumina/bloom_lab/190923_D00300_0825_BH3L23BCX3/Unaligned/Project_bloom_lab/Sample_WSN_FluA20_day2_Left/WSN_FluA20_day2_Left_GTGGCC_L001_R1_001.fastq.gz</td>\n",
       "    </tr>\n",
       "    <tr>\n",
       "      <td>FluA-20-day2-Right</td>\n",
       "      <td>/fh/fast/bloom_j/SR/ngs/illumina/bloom_lab/190923_D00300_0825_BH3L23BCX3/Unaligned/Project_bloom_lab/Sample_WSN_FluA20_day2_Right/WSN_FluA20_day2_Right_GTGAAA_L001_R1_001.fastq.gz</td>\n",
       "    </tr>\n",
       "    <tr>\n",
       "      <td>FluA-20-day3-None</td>\n",
       "      <td>/fh/fast/bloom_j/SR/ngs/illumina/bloom_lab/190923_D00300_0825_BH3L23BCX3/Unaligned/Project_bloom_lab/Sample_WSN_FluA20_day3_None/WSN_FluA20_day3_None_GTTTCG_L001_R1_001.fastq.gz</td>\n",
       "    </tr>\n",
       "    <tr>\n",
       "      <td>FluA-20-day3-Left</td>\n",
       "      <td>/fh/fast/bloom_j/SR/ngs/illumina/bloom_lab/190923_D00300_0825_BH3L23BCX3/Unaligned/Project_bloom_lab/Sample_WSN_FluA20_day3_Left/WSN_FluA20_day3_Left_CAACTA_L001_R1_001.fastq.gz</td>\n",
       "    </tr>\n",
       "    <tr>\n",
       "      <td>FluA-20-day3-Right</td>\n",
       "      <td>/fh/fast/bloom_j/SR/ngs/illumina/bloom_lab/190923_D00300_0825_BH3L23BCX3/Unaligned/Project_bloom_lab/Sample_WSN_FluA20_day3_Right/WSN_FluA20_day3_Right_GAGTGG_L001_R1_001.fastq.gz</td>\n",
       "    </tr>\n",
       "    <tr>\n",
       "      <td>D2-H1-1-H3-1-day2-None</td>\n",
       "      <td>/fh/fast/bloom_j/SR/ngs/illumina/bloom_lab/190923_D00300_0825_BH3L23BCX3/Unaligned/Project_bloom_lab/Sample_WSN_D2_day2_None/WSN_D2_day2_None_CACCGG_L001_R1_001.fastq.gz</td>\n",
       "    </tr>\n",
       "    <tr>\n",
       "      <td>D2-H1-1-H3-1-day2-Left</td>\n",
       "      <td>/fh/fast/bloom_j/SR/ngs/illumina/bloom_lab/190923_D00300_0825_BH3L23BCX3/Unaligned/Project_bloom_lab/Sample_WSN_D2_day2_Left/WSN_D2_day2_Left_CACTCA_L001_R1_001.fastq.gz</td>\n",
       "    </tr>\n",
       "    <tr>\n",
       "      <td>D2-H1-1-H3-1-day2-Right</td>\n",
       "      <td>/fh/fast/bloom_j/SR/ngs/illumina/bloom_lab/190923_D00300_0825_BH3L23BCX3/Unaligned/Project_bloom_lab/Sample_WSN_D2_day2_Right/WSN_D2_day2_Right_CACGAT_L001_R1_001.fastq.gz</td>\n",
       "    </tr>\n",
       "    <tr>\n",
       "      <td>D2-H1-1-H3-1-day3-None</td>\n",
       "      <td>/fh/fast/bloom_j/SR/ngs/illumina/bloom_lab/190923_D00300_0825_BH3L23BCX3/Unaligned/Project_bloom_lab/Sample_WSN_D2_day3_None/WSN_D2_day3_None_CAGGCG_L001_R1_001.fastq.gz</td>\n",
       "    </tr>\n",
       "    <tr>\n",
       "      <td>D2-H1-1-H3-1-day3-Left</td>\n",
       "      <td>/fh/fast/bloom_j/SR/ngs/illumina/bloom_lab/190923_D00300_0825_BH3L23BCX3/Unaligned/Project_bloom_lab/Sample_WSN_D2_day3_Left/WSN_D2_day3_Left_CATTTT_L001_R1_001.fastq.gz</td>\n",
       "    </tr>\n",
       "    <tr>\n",
       "      <td>D2-H1-1-H3-1-day3-Right</td>\n",
       "      <td>/fh/fast/bloom_j/SR/ngs/illumina/bloom_lab/190923_D00300_0825_BH3L23BCX3/Unaligned/Project_bloom_lab/Sample_WSN_D2_day3_Right/WSN_D2_day3_Right_CATGGC_L001_R1_001.fastq.gz</td>\n",
       "    </tr>\n",
       "    <tr>\n",
       "      <td>Mock-day2-None</td>\n",
       "      <td>/fh/fast/bloom_j/SR/ngs/illumina/bloom_lab/190923_D00300_0825_BH3L23BCX3/Unaligned/Project_bloom_lab/Sample_WSN_NoAb_day2_None/WSN_NoAb_day2_None_GCCAAT_L001_R1_001.fastq.gz</td>\n",
       "    </tr>\n",
       "    <tr>\n",
       "      <td>Mock-day2-Right</td>\n",
       "      <td>/fh/fast/bloom_j/SR/ngs/illumina/bloom_lab/190923_D00300_0825_BH3L23BCX3/Unaligned/Project_bloom_lab/Sample_WSN_NoAb_day2_Right/WSN_NoAb_day2_Right_CTTGTA_L001_R1_001.fastq.gz</td>\n",
       "    </tr>\n",
       "    <tr>\n",
       "      <td>Mock-day3-None</td>\n",
       "      <td>/fh/fast/bloom_j/SR/ngs/illumina/bloom_lab/190923_D00300_0825_BH3L23BCX3/Unaligned/Project_bloom_lab/Sample_WSN_NoAb_day3_None/WSN_NoAb_day3_None_AGTCAA_L001_R1_001.fastq.gz</td>\n",
       "    </tr>\n",
       "    <tr>\n",
       "      <td>Mock-day3-Right</td>\n",
       "      <td>/fh/fast/bloom_j/SR/ngs/illumina/bloom_lab/190923_D00300_0825_BH3L23BCX3/Unaligned/Project_bloom_lab/Sample_WSN_NoAb_day3_Right/WSN_NoAb_day3_Right_AGTTCC_L001_R1_001.fastq.gz</td>\n",
       "    </tr>\n",
       "    <tr>\n",
       "      <td>H17L19-day2-100ug-1</td>\n",
       "      <td>/fh/fast/bloom_j/SR/ngs/illumina/bloom_lab/190923_D00300_0825_BH3L23BCX3/Unaligned/Project_bloom_lab/Sample_Lib3-100-1-500ng/Lib3-100-1-500ng_CCAACA_L001_R1_001.fastq.gz</td>\n",
       "    </tr>\n",
       "    <tr>\n",
       "      <td>plasmid-WSN-HA</td>\n",
       "      <td>/fh/fast/bloom_j/SR/ngs/illumina/bloom_lab/190923_D00300_0825_BH3L23BCX3/Unaligned/Project_bloom_lab/Sample_WSN_HA_plasmid/WSN_HA_plasmid_ATGTCA_L001_R1_001.fastq.gz</td>\n",
       "    </tr>\n",
       "  </tbody>\n",
       "</table>"
      ],
      "text/plain": [
       "<IPython.core.display.HTML object>"
      ]
     },
     "metadata": {},
     "output_type": "display_data"
    },
    {
     "name": "stdout",
     "output_type": "stream",
     "text": [
      "\n",
      "Now running dms2_batch_bcsubamp...\n",
      "Completed dms2_batch_bcsubamp.\n"
     ]
    }
   ],
   "source": [
    "# file containing wildtype WSN HA sequence\n",
    "refseq = './data/WSN-HA.fasta'\n",
    "\n",
    "# define subamplicon alignment specifications\n",
    "alignspecs = ' '.join(['1,285,36,37', \n",
    "                       '286,570,31,32',\n",
    "                       '571,855,37,32',\n",
    "                       '856,1140,31,36',\n",
    "                       '1141,1425,29,33',\n",
    "                       '1426,1698,40,43'])\n",
    "\n",
    "# counts and alignments placed in this directory\n",
    "countsdir = os.path.join(resultsdir, 'codoncounts')\n",
    "if not os.path.isdir(countsdir):\n",
    "    os.mkdir(countsdir)\n",
    "    \n",
    "# write sample information to a batch file for dms2_batch_bcsubamplicons\n",
    "countsbatchfile = os.path.join(countsdir, 'batch.csv')\n",
    "print(\"Here is the batch file that we write to CSV format to use as input:\")\n",
    "display(HTML(samples[['name', 'R1']].to_html(index=False)))\n",
    "samples[['name', 'R1']].to_csv(countsbatchfile, index=False)\n",
    "\n",
    "print('\\nNow running dms2_batch_bcsubamp...')\n",
    "log = !dms2_batch_bcsubamp \\\n",
    "        --batchfile {countsbatchfile} \\\n",
    "        --refseq {refseq} \\\n",
    "        --alignspecs {alignspecs} \\\n",
    "        --outdir {countsdir} \\\n",
    "        --summaryprefix summary \\\n",
    "        --R1trim 200 \\\n",
    "        --R2trim 170 \\\n",
    "        --fastqdir {fastqdir} \\\n",
    "        --ncpus {ncpus} \\\n",
    "        --use_existing {use_existing} \n",
    "\n",
    "print(\"Completed dms2_batch_bcsubamp.\")"
   ]
  },
  {
   "cell_type": "markdown",
   "metadata": {},
   "source": [
    "### Look at summary plots\n",
    "The `*_readstats.pdf` summary plot shows the number of reads that were retained or thrown away due to low quality barcodes. The black regions indicate reads that failed the Illumina filter."
   ]
  },
  {
   "cell_type": "code",
   "execution_count": 4,
   "metadata": {},
   "outputs": [
    {
     "data": {
      "image/png": "[encoded data removed]",
      "text/plain": [
       "<IPython.core.display.Image object>"
      ]
     },
     "metadata": {
      "image/png": {
       "width": 700
      }
     },
     "output_type": "display_data"
    }
   ],
   "source": [
    "countsplotprefix = os.path.join(countsdir, 'summary')\n",
    "showPDF(countsplotprefix + '_readstats.pdf', width=700)"
   ]
  },
  {
   "cell_type": "code",
   "execution_count": null,
   "metadata": {},
   "outputs": [],
   "source": []
  }
 ],
 "metadata": {
  "kernelspec": {
   "display_name": "Python 3",
   "language": "python",
   "name": "python3"
  },
  "language_info": {
   "codemirror_mode": {
    "name": "ipython",
    "version": 3
   },
   "file_extension": ".py",
   "mimetype": "text/x-python",
   "name": "python",
   "nbconvert_exporter": "python",
   "pygments_lexer": "ipython3",
   "version": "3.6.7"
  },
  "toc": {
   "base_numbering": 1,
   "nav_menu": {},
   "number_sections": true,
   "sideBar": true,
   "skip_h1_title": false,
   "title_cell": "Table of Contents",
   "title_sidebar": "Contents",
   "toc_cell": false,
   "toc_position": {},
   "toc_section_display": true,
   "toc_window_display": true
  }
 },
 "nbformat": 4,
 "nbformat_minor": 2
}
